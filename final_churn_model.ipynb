{
 "cells": [
  {
   "cell_type": "code",
   "execution_count": 44,
   "id": "46f183cf",
   "metadata": {},
   "outputs": [],
   "source": [
    "import pandas as pd\n",
    "from pandas.api.types import is_object_dtype\n",
    "import numpy as np\n",
    "import matplotlib.pyplot as plt\n",
    "import seaborn as sns\n",
    "\n",
    "from sklearn.preprocessing import OneHotEncoder, LabelEncoder, StandardScaler, MinMaxScaler, LabelEncoder\n",
    "from sklearn.model_selection import train_test_split, GridSearchCV\n",
    "from sklearn.linear_model import LogisticRegression,SGDClassifier\n",
    "from sklearn.ensemble import RandomForestClassifier\n",
    "from sklearn.tree import DecisionTreeClassifier\n",
    "from sklearn.metrics import accuracy_score, confusion_matrix, classification_report, recall_score, precision_score, f1_score\n",
    "from sklearn.metrics import mean_absolute_percentage_error, log_loss\n",
    "\n",
    "import warnings\n",
    "warnings.filterwarnings('ignore')"
   ]
  },
  {
   "cell_type": "code",
   "execution_count": 2,
   "id": "9907f8b9",
   "metadata": {},
   "outputs": [
    {
     "data": {
      "text/html": [
       "<div>\n",
       "<style scoped>\n",
       "    .dataframe tbody tr th:only-of-type {\n",
       "        vertical-align: middle;\n",
       "    }\n",
       "\n",
       "    .dataframe tbody tr th {\n",
       "        vertical-align: top;\n",
       "    }\n",
       "\n",
       "    .dataframe thead th {\n",
       "        text-align: right;\n",
       "    }\n",
       "</style>\n",
       "<table border=\"1\" class=\"dataframe\">\n",
       "  <thead>\n",
       "    <tr style=\"text-align: right;\">\n",
       "      <th></th>\n",
       "      <th>CustomerID</th>\n",
       "      <th>Age</th>\n",
       "      <th>Gender</th>\n",
       "      <th>Location</th>\n",
       "      <th>Subscription_Length_Months</th>\n",
       "      <th>Monthly_Bill</th>\n",
       "      <th>Total_Usage_GB</th>\n",
       "      <th>Churn</th>\n",
       "    </tr>\n",
       "  </thead>\n",
       "  <tbody>\n",
       "    <tr>\n",
       "      <th>0</th>\n",
       "      <td>1</td>\n",
       "      <td>63</td>\n",
       "      <td>Male</td>\n",
       "      <td>Los Angeles</td>\n",
       "      <td>17</td>\n",
       "      <td>73.36</td>\n",
       "      <td>236</td>\n",
       "      <td>0</td>\n",
       "    </tr>\n",
       "    <tr>\n",
       "      <th>1</th>\n",
       "      <td>2</td>\n",
       "      <td>62</td>\n",
       "      <td>Female</td>\n",
       "      <td>New York</td>\n",
       "      <td>1</td>\n",
       "      <td>48.76</td>\n",
       "      <td>172</td>\n",
       "      <td>0</td>\n",
       "    </tr>\n",
       "    <tr>\n",
       "      <th>2</th>\n",
       "      <td>3</td>\n",
       "      <td>24</td>\n",
       "      <td>Female</td>\n",
       "      <td>Los Angeles</td>\n",
       "      <td>5</td>\n",
       "      <td>85.47</td>\n",
       "      <td>460</td>\n",
       "      <td>0</td>\n",
       "    </tr>\n",
       "    <tr>\n",
       "      <th>3</th>\n",
       "      <td>4</td>\n",
       "      <td>36</td>\n",
       "      <td>Female</td>\n",
       "      <td>Miami</td>\n",
       "      <td>3</td>\n",
       "      <td>97.94</td>\n",
       "      <td>297</td>\n",
       "      <td>1</td>\n",
       "    </tr>\n",
       "    <tr>\n",
       "      <th>4</th>\n",
       "      <td>5</td>\n",
       "      <td>46</td>\n",
       "      <td>Female</td>\n",
       "      <td>Miami</td>\n",
       "      <td>19</td>\n",
       "      <td>58.14</td>\n",
       "      <td>266</td>\n",
       "      <td>0</td>\n",
       "    </tr>\n",
       "    <tr>\n",
       "      <th>5</th>\n",
       "      <td>6</td>\n",
       "      <td>67</td>\n",
       "      <td>Male</td>\n",
       "      <td>New York</td>\n",
       "      <td>15</td>\n",
       "      <td>82.65</td>\n",
       "      <td>456</td>\n",
       "      <td>1</td>\n",
       "    </tr>\n",
       "    <tr>\n",
       "      <th>6</th>\n",
       "      <td>7</td>\n",
       "      <td>30</td>\n",
       "      <td>Female</td>\n",
       "      <td>Chicago</td>\n",
       "      <td>3</td>\n",
       "      <td>73.79</td>\n",
       "      <td>269</td>\n",
       "      <td>0</td>\n",
       "    </tr>\n",
       "    <tr>\n",
       "      <th>7</th>\n",
       "      <td>8</td>\n",
       "      <td>67</td>\n",
       "      <td>Female</td>\n",
       "      <td>Miami</td>\n",
       "      <td>1</td>\n",
       "      <td>97.70</td>\n",
       "      <td>396</td>\n",
       "      <td>1</td>\n",
       "    </tr>\n",
       "    <tr>\n",
       "      <th>8</th>\n",
       "      <td>9</td>\n",
       "      <td>20</td>\n",
       "      <td>Female</td>\n",
       "      <td>Miami</td>\n",
       "      <td>10</td>\n",
       "      <td>42.45</td>\n",
       "      <td>150</td>\n",
       "      <td>1</td>\n",
       "    </tr>\n",
       "    <tr>\n",
       "      <th>9</th>\n",
       "      <td>10</td>\n",
       "      <td>53</td>\n",
       "      <td>Female</td>\n",
       "      <td>Los Angeles</td>\n",
       "      <td>12</td>\n",
       "      <td>64.49</td>\n",
       "      <td>383</td>\n",
       "      <td>1</td>\n",
       "    </tr>\n",
       "  </tbody>\n",
       "</table>\n",
       "</div>"
      ],
      "text/plain": [
       "   CustomerID  Age  Gender     Location  Subscription_Length_Months  \\\n",
       "0           1   63    Male  Los Angeles                          17   \n",
       "1           2   62  Female     New York                           1   \n",
       "2           3   24  Female  Los Angeles                           5   \n",
       "3           4   36  Female        Miami                           3   \n",
       "4           5   46  Female        Miami                          19   \n",
       "5           6   67    Male     New York                          15   \n",
       "6           7   30  Female      Chicago                           3   \n",
       "7           8   67  Female        Miami                           1   \n",
       "8           9   20  Female        Miami                          10   \n",
       "9          10   53  Female  Los Angeles                          12   \n",
       "\n",
       "   Monthly_Bill  Total_Usage_GB  Churn  \n",
       "0         73.36             236      0  \n",
       "1         48.76             172      0  \n",
       "2         85.47             460      0  \n",
       "3         97.94             297      1  \n",
       "4         58.14             266      0  \n",
       "5         82.65             456      1  \n",
       "6         73.79             269      0  \n",
       "7         97.70             396      1  \n",
       "8         42.45             150      1  \n",
       "9         64.49             383      1  "
      ]
     },
     "execution_count": 2,
     "metadata": {},
     "output_type": "execute_result"
    }
   ],
   "source": [
    "df = pd.read_excel('customer_churn_large_dataset.xlsx')\n",
    "df = df.drop(columns=['Name'])\n",
    "df.head(10)"
   ]
  },
  {
   "cell_type": "code",
   "execution_count": null,
   "id": "d4a45e52",
   "metadata": {},
   "outputs": [],
   "source": []
  },
  {
   "cell_type": "code",
   "execution_count": 68,
   "id": "acf9edd5",
   "metadata": {},
   "outputs": [
    {
     "name": "stdout",
     "output_type": "stream",
     "text": [
      "Shape of df: (100000, 10)\n",
      "\n",
      "Dimension of df: 2\n",
      "\n",
      "Info of df:\n",
      "<class 'pandas.core.frame.DataFrame'>\n",
      "RangeIndex: 100000 entries, 0 to 99999\n",
      "Data columns (total 10 columns):\n",
      " #   Column                      Non-Null Count   Dtype  \n",
      "---  ------                      --------------   -----  \n",
      " 0   CustomerID                  100000 non-null  int64  \n",
      " 1   Age                         100000 non-null  int64  \n",
      " 2   Subscription_Length_Months  100000 non-null  int64  \n",
      " 3   Monthly_Bill                100000 non-null  float64\n",
      " 4   Churn                       100000 non-null  int64  \n",
      " 5   Gender_Male                 100000 non-null  float64\n",
      " 6   Location_Houston            100000 non-null  float64\n",
      " 7   Location_Los_Angeles        100000 non-null  float64\n",
      " 8   Location_Miami              100000 non-null  float64\n",
      " 9   Location_New_York           100000 non-null  float64\n",
      "dtypes: float64(6), int64(4)\n",
      "memory usage: 7.6 MB\n"
     ]
    },
    {
     "data": {
      "text/plain": [
       "None"
      ]
     },
     "metadata": {},
     "output_type": "display_data"
    },
    {
     "name": "stdout",
     "output_type": "stream",
     "text": [
      "\n",
      "Description of df:\n"
     ]
    },
    {
     "data": {
      "text/html": [
       "<div>\n",
       "<style scoped>\n",
       "    .dataframe tbody tr th:only-of-type {\n",
       "        vertical-align: middle;\n",
       "    }\n",
       "\n",
       "    .dataframe tbody tr th {\n",
       "        vertical-align: top;\n",
       "    }\n",
       "\n",
       "    .dataframe thead th {\n",
       "        text-align: right;\n",
       "    }\n",
       "</style>\n",
       "<table border=\"1\" class=\"dataframe\">\n",
       "  <thead>\n",
       "    <tr style=\"text-align: right;\">\n",
       "      <th></th>\n",
       "      <th>CustomerID</th>\n",
       "      <th>Age</th>\n",
       "      <th>Subscription_Length_Months</th>\n",
       "      <th>Monthly_Bill</th>\n",
       "      <th>Churn</th>\n",
       "      <th>Gender_Male</th>\n",
       "      <th>Location_Houston</th>\n",
       "      <th>Location_Los_Angeles</th>\n",
       "      <th>Location_Miami</th>\n",
       "      <th>Location_New_York</th>\n",
       "    </tr>\n",
       "  </thead>\n",
       "  <tbody>\n",
       "    <tr>\n",
       "      <th>count</th>\n",
       "      <td>100000.000000</td>\n",
       "      <td>100000.000000</td>\n",
       "      <td>100000.000000</td>\n",
       "      <td>100000.000000</td>\n",
       "      <td>100000.000000</td>\n",
       "      <td>100000.000000</td>\n",
       "      <td>100000.000000</td>\n",
       "      <td>100000.000000</td>\n",
       "      <td>100000.000000</td>\n",
       "      <td>100000.000000</td>\n",
       "    </tr>\n",
       "    <tr>\n",
       "      <th>mean</th>\n",
       "      <td>50000.500000</td>\n",
       "      <td>44.027020</td>\n",
       "      <td>12.490100</td>\n",
       "      <td>65.053197</td>\n",
       "      <td>0.497790</td>\n",
       "      <td>0.497840</td>\n",
       "      <td>0.201570</td>\n",
       "      <td>0.201570</td>\n",
       "      <td>0.200310</td>\n",
       "      <td>0.198130</td>\n",
       "    </tr>\n",
       "    <tr>\n",
       "      <th>std</th>\n",
       "      <td>28867.657797</td>\n",
       "      <td>15.280283</td>\n",
       "      <td>6.926461</td>\n",
       "      <td>20.230696</td>\n",
       "      <td>0.499998</td>\n",
       "      <td>0.499998</td>\n",
       "      <td>0.401175</td>\n",
       "      <td>0.401175</td>\n",
       "      <td>0.400234</td>\n",
       "      <td>0.398593</td>\n",
       "    </tr>\n",
       "    <tr>\n",
       "      <th>min</th>\n",
       "      <td>1.000000</td>\n",
       "      <td>18.000000</td>\n",
       "      <td>1.000000</td>\n",
       "      <td>30.000000</td>\n",
       "      <td>0.000000</td>\n",
       "      <td>0.000000</td>\n",
       "      <td>0.000000</td>\n",
       "      <td>0.000000</td>\n",
       "      <td>0.000000</td>\n",
       "      <td>0.000000</td>\n",
       "    </tr>\n",
       "    <tr>\n",
       "      <th>25%</th>\n",
       "      <td>25000.750000</td>\n",
       "      <td>31.000000</td>\n",
       "      <td>6.000000</td>\n",
       "      <td>47.540000</td>\n",
       "      <td>0.000000</td>\n",
       "      <td>0.000000</td>\n",
       "      <td>0.000000</td>\n",
       "      <td>0.000000</td>\n",
       "      <td>0.000000</td>\n",
       "      <td>0.000000</td>\n",
       "    </tr>\n",
       "    <tr>\n",
       "      <th>50%</th>\n",
       "      <td>50000.500000</td>\n",
       "      <td>44.000000</td>\n",
       "      <td>12.000000</td>\n",
       "      <td>65.010000</td>\n",
       "      <td>0.000000</td>\n",
       "      <td>0.000000</td>\n",
       "      <td>0.000000</td>\n",
       "      <td>0.000000</td>\n",
       "      <td>0.000000</td>\n",
       "      <td>0.000000</td>\n",
       "    </tr>\n",
       "    <tr>\n",
       "      <th>75%</th>\n",
       "      <td>75000.250000</td>\n",
       "      <td>57.000000</td>\n",
       "      <td>19.000000</td>\n",
       "      <td>82.640000</td>\n",
       "      <td>1.000000</td>\n",
       "      <td>1.000000</td>\n",
       "      <td>0.000000</td>\n",
       "      <td>0.000000</td>\n",
       "      <td>0.000000</td>\n",
       "      <td>0.000000</td>\n",
       "    </tr>\n",
       "    <tr>\n",
       "      <th>max</th>\n",
       "      <td>100000.000000</td>\n",
       "      <td>70.000000</td>\n",
       "      <td>24.000000</td>\n",
       "      <td>100.000000</td>\n",
       "      <td>1.000000</td>\n",
       "      <td>1.000000</td>\n",
       "      <td>1.000000</td>\n",
       "      <td>1.000000</td>\n",
       "      <td>1.000000</td>\n",
       "      <td>1.000000</td>\n",
       "    </tr>\n",
       "  </tbody>\n",
       "</table>\n",
       "</div>"
      ],
      "text/plain": [
       "          CustomerID            Age  Subscription_Length_Months  \\\n",
       "count  100000.000000  100000.000000               100000.000000   \n",
       "mean    50000.500000      44.027020                   12.490100   \n",
       "std     28867.657797      15.280283                    6.926461   \n",
       "min         1.000000      18.000000                    1.000000   \n",
       "25%     25000.750000      31.000000                    6.000000   \n",
       "50%     50000.500000      44.000000                   12.000000   \n",
       "75%     75000.250000      57.000000                   19.000000   \n",
       "max    100000.000000      70.000000                   24.000000   \n",
       "\n",
       "        Monthly_Bill          Churn    Gender_Male  Location_Houston  \\\n",
       "count  100000.000000  100000.000000  100000.000000     100000.000000   \n",
       "mean       65.053197       0.497790       0.497840          0.201570   \n",
       "std        20.230696       0.499998       0.499998          0.401175   \n",
       "min        30.000000       0.000000       0.000000          0.000000   \n",
       "25%        47.540000       0.000000       0.000000          0.000000   \n",
       "50%        65.010000       0.000000       0.000000          0.000000   \n",
       "75%        82.640000       1.000000       1.000000          0.000000   \n",
       "max       100.000000       1.000000       1.000000          1.000000   \n",
       "\n",
       "       Location_Los_Angeles  Location_Miami  Location_New_York  \n",
       "count         100000.000000   100000.000000      100000.000000  \n",
       "mean               0.201570        0.200310           0.198130  \n",
       "std                0.401175        0.400234           0.398593  \n",
       "min                0.000000        0.000000           0.000000  \n",
       "25%                0.000000        0.000000           0.000000  \n",
       "50%                0.000000        0.000000           0.000000  \n",
       "75%                0.000000        0.000000           0.000000  \n",
       "max                1.000000        1.000000           1.000000  "
      ]
     },
     "metadata": {},
     "output_type": "display_data"
    },
    {
     "name": "stdout",
     "output_type": "stream",
     "text": [
      "\n",
      "Null values of df:\n"
     ]
    },
    {
     "data": {
      "text/plain": [
       "CustomerID                    0\n",
       "Age                           0\n",
       "Subscription_Length_Months    0\n",
       "Monthly_Bill                  0\n",
       "Churn                         0\n",
       "Gender_Male                   0\n",
       "Location_Houston              0\n",
       "Location_Los_Angeles          0\n",
       "Location_Miami                0\n",
       "Location_New_York             0\n",
       "dtype: int64"
      ]
     },
     "metadata": {},
     "output_type": "display_data"
    },
    {
     "name": "stdout",
     "output_type": "stream",
     "text": [
      "\n",
      "Missing values of df:\n"
     ]
    },
    {
     "data": {
      "text/plain": [
       "CustomerID                    0\n",
       "Age                           0\n",
       "Subscription_Length_Months    0\n",
       "Monthly_Bill                  0\n",
       "Churn                         0\n",
       "Gender_Male                   0\n",
       "Location_Houston              0\n",
       "Location_Los_Angeles          0\n",
       "Location_Miami                0\n",
       "Location_New_York             0\n",
       "dtype: int64"
      ]
     },
     "metadata": {},
     "output_type": "display_data"
    },
    {
     "name": "stdout",
     "output_type": "stream",
     "text": [
      "\n",
      "Duplicate values of df:\n"
     ]
    },
    {
     "data": {
      "text/plain": [
       "0"
      ]
     },
     "metadata": {},
     "output_type": "display_data"
    }
   ],
   "source": [
    "def basic_report(df):\n",
    "    print(f'Shape of df: {df.shape}')\n",
    "    print()\n",
    "    print(f'Dimension of df: {df.ndim}')\n",
    "    print()\n",
    "    print(f'Info of df:')\n",
    "    display(df.info())\n",
    "    print()\n",
    "    print(f'Description of df:')\n",
    "    display(df.describe())\n",
    "    print()\n",
    "    print('Null values of df:')\n",
    "    display(df.isnull().sum())\n",
    "    print()\n",
    "    print('Missing values of df:')\n",
    "    display(df.isna().sum())\n",
    "    print()\n",
    "    print('Duplicate values of df:')\n",
    "    display( df.duplicated().sum())\n",
    "    \n",
    "basic_report(df)"
   ]
  },
  {
   "cell_type": "code",
   "execution_count": 4,
   "id": "d50c675d",
   "metadata": {},
   "outputs": [
    {
     "name": "stdout",
     "output_type": "stream",
     "text": [
      "ALL columns: Index(['CustomerID', 'Age', 'Gender', 'Location', 'Subscription_Length_Months',\n",
      "       'Monthly_Bill', 'Total_Usage_GB', 'Churn'],\n",
      "      dtype='object')\n",
      "\n",
      "Gender :\n",
      "['Male' 'Female']\n",
      "2\n",
      "\n",
      "Location :\n",
      "['Los Angeles' 'New York' 'Miami' 'Chicago' 'Houston']\n",
      "5\n",
      "\n"
     ]
    }
   ],
   "source": [
    "def cat_columns(df):\n",
    "    cat_column = []\n",
    "    print(f'ALL columns: {df.columns}')\n",
    "    print()\n",
    "    for i,c in enumerate(df.columns):\n",
    "        if is_object_dtype(df[c]):\n",
    "            cat_column.append(c)\n",
    "            print(c,':')\n",
    "            print(df[c].unique())\n",
    "            print(df[c].nunique())\n",
    "            print()\n",
    "        else:\n",
    "            pass\n",
    "   \n",
    "    return cat_column\n",
    "\n",
    "\n",
    "cat_column = cat_columns(df)"
   ]
  },
  {
   "cell_type": "code",
   "execution_count": 5,
   "id": "e40c79e1",
   "metadata": {},
   "outputs": [
    {
     "data": {
      "text/plain": [
       "[array(['Female', 'Male'], dtype=object),\n",
       " array(['Chicago', 'Houston', 'Los Angeles', 'Miami', 'New York'],\n",
       "       dtype=object)]"
      ]
     },
     "execution_count": 5,
     "metadata": {},
     "output_type": "execute_result"
    }
   ],
   "source": [
    "ohe = OneHotEncoder(sparse=False, drop='first')\n",
    "ohe_GL = ohe.fit_transform(df[['Gender','Location']])\n",
    "\n",
    "ohe.categories_"
   ]
  },
  {
   "cell_type": "code",
   "execution_count": null,
   "id": "3922454e",
   "metadata": {},
   "outputs": [],
   "source": []
  },
  {
   "cell_type": "code",
   "execution_count": 6,
   "id": "7f56ae80",
   "metadata": {},
   "outputs": [],
   "source": [
    "df['Gender_Male'] = ohe_GL[:,0] # Gender_Male\n",
    "df['Location_Houston'] = ohe_GL[:,1] # Location_Houston\n",
    "df['Location_Los_Angeles'] = ohe_GL[:,1] # Location_Los_Angeles\n",
    "df['Location_Miami'] = ohe_GL[:,3] # Location_Miami\n",
    "df['Location_New_York'] = ohe_GL[:,4] # Location_New_York"
   ]
  },
  {
   "cell_type": "code",
   "execution_count": 70,
   "id": "78c28946",
   "metadata": {},
   "outputs": [
    {
     "data": {
      "text/html": [
       "<div>\n",
       "<style scoped>\n",
       "    .dataframe tbody tr th:only-of-type {\n",
       "        vertical-align: middle;\n",
       "    }\n",
       "\n",
       "    .dataframe tbody tr th {\n",
       "        vertical-align: top;\n",
       "    }\n",
       "\n",
       "    .dataframe thead th {\n",
       "        text-align: right;\n",
       "    }\n",
       "</style>\n",
       "<table border=\"1\" class=\"dataframe\">\n",
       "  <thead>\n",
       "    <tr style=\"text-align: right;\">\n",
       "      <th></th>\n",
       "      <th>CustomerID</th>\n",
       "      <th>Age</th>\n",
       "      <th>Subscription_Length_Months</th>\n",
       "      <th>Monthly_Bill</th>\n",
       "      <th>Churn</th>\n",
       "      <th>Gender_Male</th>\n",
       "      <th>Location_Houston</th>\n",
       "      <th>Location_Los_Angeles</th>\n",
       "      <th>Location_Miami</th>\n",
       "      <th>Location_New_York</th>\n",
       "    </tr>\n",
       "  </thead>\n",
       "  <tbody>\n",
       "    <tr>\n",
       "      <th>0</th>\n",
       "      <td>1</td>\n",
       "      <td>63</td>\n",
       "      <td>17</td>\n",
       "      <td>73.36</td>\n",
       "      <td>0</td>\n",
       "      <td>1.0</td>\n",
       "      <td>0.0</td>\n",
       "      <td>0.0</td>\n",
       "      <td>0.0</td>\n",
       "      <td>0.0</td>\n",
       "    </tr>\n",
       "    <tr>\n",
       "      <th>1</th>\n",
       "      <td>2</td>\n",
       "      <td>62</td>\n",
       "      <td>1</td>\n",
       "      <td>48.76</td>\n",
       "      <td>0</td>\n",
       "      <td>0.0</td>\n",
       "      <td>0.0</td>\n",
       "      <td>0.0</td>\n",
       "      <td>0.0</td>\n",
       "      <td>1.0</td>\n",
       "    </tr>\n",
       "    <tr>\n",
       "      <th>2</th>\n",
       "      <td>3</td>\n",
       "      <td>24</td>\n",
       "      <td>5</td>\n",
       "      <td>85.47</td>\n",
       "      <td>0</td>\n",
       "      <td>0.0</td>\n",
       "      <td>0.0</td>\n",
       "      <td>0.0</td>\n",
       "      <td>0.0</td>\n",
       "      <td>0.0</td>\n",
       "    </tr>\n",
       "    <tr>\n",
       "      <th>3</th>\n",
       "      <td>4</td>\n",
       "      <td>36</td>\n",
       "      <td>3</td>\n",
       "      <td>97.94</td>\n",
       "      <td>1</td>\n",
       "      <td>0.0</td>\n",
       "      <td>0.0</td>\n",
       "      <td>0.0</td>\n",
       "      <td>1.0</td>\n",
       "      <td>0.0</td>\n",
       "    </tr>\n",
       "    <tr>\n",
       "      <th>4</th>\n",
       "      <td>5</td>\n",
       "      <td>46</td>\n",
       "      <td>19</td>\n",
       "      <td>58.14</td>\n",
       "      <td>0</td>\n",
       "      <td>0.0</td>\n",
       "      <td>0.0</td>\n",
       "      <td>0.0</td>\n",
       "      <td>1.0</td>\n",
       "      <td>0.0</td>\n",
       "    </tr>\n",
       "  </tbody>\n",
       "</table>\n",
       "</div>"
      ],
      "text/plain": [
       "   CustomerID  Age  Subscription_Length_Months  Monthly_Bill  Churn  \\\n",
       "0           1   63                          17         73.36      0   \n",
       "1           2   62                           1         48.76      0   \n",
       "2           3   24                           5         85.47      0   \n",
       "3           4   36                           3         97.94      1   \n",
       "4           5   46                          19         58.14      0   \n",
       "\n",
       "   Gender_Male  Location_Houston  Location_Los_Angeles  Location_Miami  \\\n",
       "0          1.0               0.0                   0.0             0.0   \n",
       "1          0.0               0.0                   0.0             0.0   \n",
       "2          0.0               0.0                   0.0             0.0   \n",
       "3          0.0               0.0                   0.0             1.0   \n",
       "4          0.0               0.0                   0.0             1.0   \n",
       "\n",
       "   Location_New_York  \n",
       "0                0.0  \n",
       "1                1.0  \n",
       "2                0.0  \n",
       "3                0.0  \n",
       "4                0.0  "
      ]
     },
     "execution_count": 70,
     "metadata": {},
     "output_type": "execute_result"
    }
   ],
   "source": [
    "df = df.drop(columns=['Gender','Location'])\n",
    "df = df.drop(columns=['Total_Usage_GB'])\n",
    "\n",
    "df.head()"
   ]
  },
  {
   "cell_type": "code",
   "execution_count": 71,
   "id": "52b3762c",
   "metadata": {},
   "outputs": [],
   "source": [
    "X = df.drop(columns=['Churn'])\n",
    "y = df.iloc[:,5]"
   ]
  },
  {
   "cell_type": "code",
   "execution_count": 72,
   "id": "5da6f800",
   "metadata": {},
   "outputs": [
    {
     "data": {
      "text/plain": [
       "((80000, 9), (20000, 9), (80000,), (20000,))"
      ]
     },
     "execution_count": 72,
     "metadata": {},
     "output_type": "execute_result"
    }
   ],
   "source": [
    "X_train, X_test, y_train, y_test = train_test_split(X, y, test_size=0.20, random_state=42)\n",
    "\n",
    "X_train.shape , X_test.shape , y_train.shape , y_test.shape "
   ]
  },
  {
   "cell_type": "code",
   "execution_count": 83,
   "id": "83c40638",
   "metadata": {},
   "outputs": [
    {
     "data": {
      "text/plain": [
       "Index(['CustomerID', 'Age', 'Subscription_Length_Months', 'Monthly_Bill',\n",
       "       'Gender_Male', 'Location_Houston', 'Location_Los_Angeles',\n",
       "       'Location_Miami', 'Location_New_York'],\n",
       "      dtype='object')"
      ]
     },
     "execution_count": 83,
     "metadata": {},
     "output_type": "execute_result"
    }
   ],
   "source": [
    "X_train.columns"
   ]
  },
  {
   "cell_type": "code",
   "execution_count": 73,
   "id": "352b4276",
   "metadata": {},
   "outputs": [
    {
     "data": {
      "text/html": [
       "<style>#sk-container-id-4 {color: black;background-color: white;}#sk-container-id-4 pre{padding: 0;}#sk-container-id-4 div.sk-toggleable {background-color: white;}#sk-container-id-4 label.sk-toggleable__label {cursor: pointer;display: block;width: 100%;margin-bottom: 0;padding: 0.3em;box-sizing: border-box;text-align: center;}#sk-container-id-4 label.sk-toggleable__label-arrow:before {content: \"▸\";float: left;margin-right: 0.25em;color: #696969;}#sk-container-id-4 label.sk-toggleable__label-arrow:hover:before {color: black;}#sk-container-id-4 div.sk-estimator:hover label.sk-toggleable__label-arrow:before {color: black;}#sk-container-id-4 div.sk-toggleable__content {max-height: 0;max-width: 0;overflow: hidden;text-align: left;background-color: #f0f8ff;}#sk-container-id-4 div.sk-toggleable__content pre {margin: 0.2em;color: black;border-radius: 0.25em;background-color: #f0f8ff;}#sk-container-id-4 input.sk-toggleable__control:checked~div.sk-toggleable__content {max-height: 200px;max-width: 100%;overflow: auto;}#sk-container-id-4 input.sk-toggleable__control:checked~label.sk-toggleable__label-arrow:before {content: \"▾\";}#sk-container-id-4 div.sk-estimator input.sk-toggleable__control:checked~label.sk-toggleable__label {background-color: #d4ebff;}#sk-container-id-4 div.sk-label input.sk-toggleable__control:checked~label.sk-toggleable__label {background-color: #d4ebff;}#sk-container-id-4 input.sk-hidden--visually {border: 0;clip: rect(1px 1px 1px 1px);clip: rect(1px, 1px, 1px, 1px);height: 1px;margin: -1px;overflow: hidden;padding: 0;position: absolute;width: 1px;}#sk-container-id-4 div.sk-estimator {font-family: monospace;background-color: #f0f8ff;border: 1px dotted black;border-radius: 0.25em;box-sizing: border-box;margin-bottom: 0.5em;}#sk-container-id-4 div.sk-estimator:hover {background-color: #d4ebff;}#sk-container-id-4 div.sk-parallel-item::after {content: \"\";width: 100%;border-bottom: 1px solid gray;flex-grow: 1;}#sk-container-id-4 div.sk-label:hover label.sk-toggleable__label {background-color: #d4ebff;}#sk-container-id-4 div.sk-serial::before {content: \"\";position: absolute;border-left: 1px solid gray;box-sizing: border-box;top: 0;bottom: 0;left: 50%;z-index: 0;}#sk-container-id-4 div.sk-serial {display: flex;flex-direction: column;align-items: center;background-color: white;padding-right: 0.2em;padding-left: 0.2em;position: relative;}#sk-container-id-4 div.sk-item {position: relative;z-index: 1;}#sk-container-id-4 div.sk-parallel {display: flex;align-items: stretch;justify-content: center;background-color: white;position: relative;}#sk-container-id-4 div.sk-item::before, #sk-container-id-4 div.sk-parallel-item::before {content: \"\";position: absolute;border-left: 1px solid gray;box-sizing: border-box;top: 0;bottom: 0;left: 50%;z-index: -1;}#sk-container-id-4 div.sk-parallel-item {display: flex;flex-direction: column;z-index: 1;position: relative;background-color: white;}#sk-container-id-4 div.sk-parallel-item:first-child::after {align-self: flex-end;width: 50%;}#sk-container-id-4 div.sk-parallel-item:last-child::after {align-self: flex-start;width: 50%;}#sk-container-id-4 div.sk-parallel-item:only-child::after {width: 0;}#sk-container-id-4 div.sk-dashed-wrapped {border: 1px dashed gray;margin: 0 0.4em 0.5em 0.4em;box-sizing: border-box;padding-bottom: 0.4em;background-color: white;}#sk-container-id-4 div.sk-label label {font-family: monospace;font-weight: bold;display: inline-block;line-height: 1.2em;}#sk-container-id-4 div.sk-label-container {text-align: center;}#sk-container-id-4 div.sk-container {/* jupyter's `normalize.less` sets `[hidden] { display: none; }` but bootstrap.min.css set `[hidden] { display: none !important; }` so we also need the `!important` here to be able to override the default hidden behavior on the sphinx rendered scikit-learn.org. See: https://github.com/scikit-learn/scikit-learn/issues/21755 */display: inline-block !important;position: relative;}#sk-container-id-4 div.sk-text-repr-fallback {display: none;}</style><div id=\"sk-container-id-4\" class=\"sk-top-container\"><div class=\"sk-text-repr-fallback\"><pre>LogisticRegression()</pre><b>In a Jupyter environment, please rerun this cell to show the HTML representation or trust the notebook. <br />On GitHub, the HTML representation is unable to render, please try loading this page with nbviewer.org.</b></div><div class=\"sk-container\" hidden><div class=\"sk-item\"><div class=\"sk-estimator sk-toggleable\"><input class=\"sk-toggleable__control sk-hidden--visually\" id=\"sk-estimator-id-4\" type=\"checkbox\" checked><label for=\"sk-estimator-id-4\" class=\"sk-toggleable__label sk-toggleable__label-arrow\">LogisticRegression</label><div class=\"sk-toggleable__content\"><pre>LogisticRegression()</pre></div></div></div></div></div>"
      ],
      "text/plain": [
       "LogisticRegression()"
      ]
     },
     "execution_count": 73,
     "metadata": {},
     "output_type": "execute_result"
    }
   ],
   "source": [
    "clf = LogisticRegression()\n",
    "clf.fit(X_train,y_train)"
   ]
  },
  {
   "cell_type": "code",
   "execution_count": 74,
   "id": "faa92467",
   "metadata": {},
   "outputs": [],
   "source": [
    "y_pred = clf.predict(X_test)"
   ]
  },
  {
   "cell_type": "code",
   "execution_count": 75,
   "id": "408c4a1a",
   "metadata": {},
   "outputs": [
    {
     "data": {
      "text/plain": [
       "100.0"
      ]
     },
     "execution_count": 75,
     "metadata": {},
     "output_type": "execute_result"
    }
   ],
   "source": [
    "accuracy_score(y_test, y_pred)*100 # , accuracy_score(y_test, y_pred_rlf)"
   ]
  },
  {
   "cell_type": "code",
   "execution_count": 76,
   "id": "d44f55d9",
   "metadata": {},
   "outputs": [
    {
     "data": {
      "text/plain": [
       "(-9e-11, 1e-10)"
      ]
     },
     "execution_count": 76,
     "metadata": {},
     "output_type": "execute_result"
    },
    {
     "data": {
      "image/png": "[encoded data removed]",
      "text/plain": [
       "<Figure size 1800x400 with 1 Axes>"
      ]
     },
     "metadata": {},
     "output_type": "display_data"
    }
   ],
   "source": [
    "plt.figure(figsize=(18,4))\n",
    "sns.barplot(x=X_train.columns.tolist()[1:], y=clf.coef_[0][1:])\n",
    "plt.ylim(-0.00000000009,0.0000000001)"
   ]
  },
  {
   "cell_type": "code",
   "execution_count": 77,
   "id": "5da56f2b",
   "metadata": {},
   "outputs": [
    {
     "data": {
      "text/plain": [
       "CustomerID                   -0.004586\n",
       "Age                           0.001559\n",
       "Subscription_Length_Months    0.002328\n",
       "Monthly_Bill                 -0.000211\n",
       "Churn                         1.000000\n",
       "Gender_Male                   0.002121\n",
       "Location_Houston             -0.006728\n",
       "Location_Los_Angeles         -0.006728\n",
       "Location_Miami                0.005235\n",
       "Location_New_York             0.005835\n",
       "Name: Churn, dtype: float64"
      ]
     },
     "execution_count": 77,
     "metadata": {},
     "output_type": "execute_result"
    }
   ],
   "source": [
    "df.corr()[\"Churn\"]"
   ]
  },
  {
   "cell_type": "code",
   "execution_count": 78,
   "id": "b3af263d",
   "metadata": {},
   "outputs": [
    {
     "data": {
      "text/plain": [
       "(1.0, 1.0)"
      ]
     },
     "execution_count": 78,
     "metadata": {},
     "output_type": "execute_result"
    }
   ],
   "source": [
    "precision_score(y_test,y_pred), recall_score(y_test,y_pred)"
   ]
  },
  {
   "cell_type": "code",
   "execution_count": 79,
   "id": "a62edef1",
   "metadata": {},
   "outputs": [
    {
     "data": {
      "text/plain": [
       "array([[10037,     0],\n",
       "       [    0,  9963]], dtype=int64)"
      ]
     },
     "execution_count": 79,
     "metadata": {},
     "output_type": "execute_result"
    }
   ],
   "source": [
    "confusion_matrix(y_test, y_pred)"
   ]
  },
  {
   "cell_type": "code",
   "execution_count": 80,
   "id": "bb96247d",
   "metadata": {},
   "outputs": [],
   "source": [
    "import pickle"
   ]
  },
  {
   "cell_type": "code",
   "execution_count": 84,
   "id": "9ecac31c",
   "metadata": {},
   "outputs": [],
   "source": [
    "with open(\"model.pkl\", \"wb\") as f:\n",
    "    pickle.dump(clf, f)"
   ]
  },
  {
   "cell_type": "code",
   "execution_count": 82,
   "id": "982de09d",
   "metadata": {},
   "outputs": [],
   "source": [
    "with open(\"onehotencoder.pkl\", \"wb\") as f:\n",
    "    pickle.dump(ohe, f)"
   ]
  },
  {
   "cell_type": "code",
   "execution_count": 23,
   "id": "51d93921",
   "metadata": {},
   "outputs": [
    {
     "data": {
      "text/plain": [
       "Index(['CustomerID', 'Age', 'Subscription_Length_Months', 'Monthly_Bill',\n",
       "       'Churn', 'Gender_Male', 'Location_Houston', 'Location_Los_Angeles',\n",
       "       'Location_Miami', 'Location_New_York'],\n",
       "      dtype='object')"
      ]
     },
     "execution_count": 23,
     "metadata": {},
     "output_type": "execute_result"
    }
   ],
   "source": [
    "df.columns"
   ]
  },
  {
   "cell_type": "code",
   "execution_count": 41,
   "id": "44fffe5f",
   "metadata": {
    "scrolled": true
   },
   "outputs": [],
   "source": [
    "input_array = pd.DataFrame(np.array(['CustomerID','Name','Age','Subscription_Length_Months','Monthly_Bill','Total_Usage_GB','Gender','Location'])).T"
   ]
  },
  {
   "cell_type": "code",
   "execution_count": 42,
   "id": "dfe3a9d2",
   "metadata": {},
   "outputs": [],
   "source": [
    "input_array.columns = ['CustomerID','Name','Age','Subscription_Length_Months','Monthly_Bill','Total_Usage_GB','Gender','Location']"
   ]
  },
  {
   "cell_type": "code",
   "execution_count": 43,
   "id": "68330146",
   "metadata": {},
   "outputs": [
    {
     "data": {
      "text/html": [
       "<div>\n",
       "<style scoped>\n",
       "    .dataframe tbody tr th:only-of-type {\n",
       "        vertical-align: middle;\n",
       "    }\n",
       "\n",
       "    .dataframe tbody tr th {\n",
       "        vertical-align: top;\n",
       "    }\n",
       "\n",
       "    .dataframe thead th {\n",
       "        text-align: right;\n",
       "    }\n",
       "</style>\n",
       "<table border=\"1\" class=\"dataframe\">\n",
       "  <thead>\n",
       "    <tr style=\"text-align: right;\">\n",
       "      <th></th>\n",
       "      <th>CustomerID</th>\n",
       "      <th>Name</th>\n",
       "      <th>Age</th>\n",
       "      <th>Subscription_Length_Months</th>\n",
       "      <th>Monthly_Bill</th>\n",
       "      <th>Total_Usage_GB</th>\n",
       "      <th>Gender</th>\n",
       "      <th>Location</th>\n",
       "    </tr>\n",
       "  </thead>\n",
       "  <tbody>\n",
       "    <tr>\n",
       "      <th>0</th>\n",
       "      <td>CustomerID</td>\n",
       "      <td>Name</td>\n",
       "      <td>Age</td>\n",
       "      <td>Subscription_Length_Months</td>\n",
       "      <td>Monthly_Bill</td>\n",
       "      <td>Total_Usage_GB</td>\n",
       "      <td>Gender</td>\n",
       "      <td>Location</td>\n",
       "    </tr>\n",
       "  </tbody>\n",
       "</table>\n",
       "</div>"
      ],
      "text/plain": [
       "   CustomerID  Name  Age  Subscription_Length_Months  Monthly_Bill  \\\n",
       "0  CustomerID  Name  Age  Subscription_Length_Months  Monthly_Bill   \n",
       "\n",
       "   Total_Usage_GB  Gender  Location  \n",
       "0  Total_Usage_GB  Gender  Location  "
      ]
     },
     "execution_count": 43,
     "metadata": {},
     "output_type": "execute_result"
    }
   ],
   "source": [
    "input_array"
   ]
  },
  {
   "cell_type": "code",
   "execution_count": null,
   "id": "a7f14cef",
   "metadata": {},
   "outputs": [],
   "source": []
  }
 ],
 "metadata": {
  "kernelspec": {
   "display_name": "Python 3 (ipykernel)",
   "language": "python",
   "name": "python3"
  },
  "language_info": {
   "codemirror_mode": {
    "name": "ipython",
    "version": 3
   },
   "file_extension": ".py",
   "mimetype": "text/x-python",
   "name": "python",
   "nbconvert_exporter": "python",
   "pygments_lexer": "ipython3",
   "version": "3.10.5"
  }
 },
 "nbformat": 4,
 "nbformat_minor": 5
}
